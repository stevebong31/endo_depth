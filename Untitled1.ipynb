{
 "cells": [
  {
   "cell_type": "code",
   "execution_count": 16,
   "metadata": {},
   "outputs": [],
   "source": [
    "import os, cv2, glob"
   ]
  },
  {
   "cell_type": "code",
   "execution_count": 20,
   "metadata": {},
   "outputs": [],
   "source": [
    "def data_generator(data_path, batch):\n",
    "    img_list = sorted(glob.glob(data_path +'/*.png'))\n",
    "    idx = 0\n",
    "    while 1:  \n",
    "        idx_list = list(range(0,len(img_list)))\n",
    "        random.shuffle(idx_list)\n",
    "        bat_img = []\n",
    "        bat_lab = []\n",
    "        if idx > len(idx_list) - batch:\n",
    "            idx = idx_list[idx:]\n",
    "            idx = 0\n",
    "        else:\n",
    "            tmp_list = idx_list[idx:idx+batch]\n",
    "            idx = idx + batch\n",
    "            \n",
    "        for i in tmp_list:\n",
    "            img_tmp = cv2.imread(img_list[i])\n",
    "            \n",
    "            if img_tmp is None:\n",
    "                print(img_list[i])\n",
    "                \n",
    "            img = augment_image_colorspace(cv2.cvtColor(img_tmp[:,:256,:],cv2.COLOR_BGR2RGB)/255.)\n",
    "            lab = cv2.cvtColor(img_tmp[:,256:,:], cv2.COLOR_BGR2GRAY)/255.\n",
    "            bat_img.append(img)\n",
    "            bat_lab.append(lab) \n",
    "        yield np.array(bat_img), np.expand_dims(np.array([cv2.resize(i, (256, 256)) for i in bat_lab]),axis = -1)"
   ]
  },
  {
   "cell_type": "code",
   "execution_count": 32,
   "metadata": {},
   "outputs": [],
   "source": [
    "train_path ='/data1/depth/endo_sim/train'"
   ]
  },
  {
   "cell_type": "code",
   "execution_count": 33,
   "metadata": {},
   "outputs": [],
   "source": [
    "dir_list = os.listdir(train_path)"
   ]
  },
  {
   "cell_type": "code",
   "execution_count": 34,
   "metadata": {},
   "outputs": [
    {
     "data": {
      "text/plain": [
       "['sub14', 'sub15', 'sub17', 'sub10', 'sub12']"
      ]
     },
     "execution_count": 34,
     "metadata": {},
     "output_type": "execute_result"
    }
   ],
   "source": [
    "dir_list"
   ]
  },
  {
   "cell_type": "code",
   "execution_count": 38,
   "metadata": {},
   "outputs": [],
   "source": [
    "total_img_list = []\n",
    "for j in dir_list:\n",
    "    img_path = os.path.join(train_path, j)\n",
    "    img_list = sorted(glob.glob(img_path +'/*.png'))\n",
    "    total_img_list += img_list"
   ]
  },
  {
   "cell_type": "code",
   "execution_count": 39,
   "metadata": {},
   "outputs": [
    {
     "data": {
      "text/plain": [
       "14955"
      ]
     },
     "execution_count": 39,
     "metadata": {},
     "output_type": "execute_result"
    }
   ],
   "source": [
    "len(total_img_list)"
   ]
  },
  {
   "cell_type": "code",
   "execution_count": 36,
   "metadata": {},
   "outputs": [
    {
     "data": {
      "text/plain": [
       "'/data1/depth/endo_sim/train/sub12'"
      ]
     },
     "execution_count": 36,
     "metadata": {},
     "output_type": "execute_result"
    }
   ],
   "source": [
    "img_path"
   ]
  },
  {
   "cell_type": "code",
   "execution_count": null,
   "metadata": {},
   "outputs": [],
   "source": [
    "glob.glob(train_path +'/*.png')"
   ]
  }
 ],
 "metadata": {
  "kernelspec": {
   "display_name": "Python 3",
   "language": "python",
   "name": "python3"
  },
  "language_info": {
   "codemirror_mode": {
    "name": "ipython",
    "version": 3
   },
   "file_extension": ".py",
   "mimetype": "text/x-python",
   "name": "python",
   "nbconvert_exporter": "python",
   "pygments_lexer": "ipython3",
   "version": "3.7.3"
  }
 },
 "nbformat": 4,
 "nbformat_minor": 4
}
